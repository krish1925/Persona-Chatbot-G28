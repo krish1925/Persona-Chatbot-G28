{
 "cells": [
  {
   "cell_type": "code",
   "execution_count": 4,
   "metadata": {},
   "outputs": [],
   "source": [
    "import csv\n",
    "import json\n",
    "\n",
    "def csv_to_json(csv_filename, json_filename):\n",
    "    json_list = []\n",
    "\n",
    "    with open(csv_filename, mode='r', encoding='utf-8') as csv_file:\n",
    "        csv_reader = csv.DictReader(csv_file)\n",
    "        \n",
    "        for row in csv_reader:\n",
    "            user1_persona = row['user 1 personas']\n",
    "            user2_persona = row['user 2 personas']\n",
    "            conversation = row['Best Generated Conversation']\n",
    "\n",
    "            json_object = {\n",
    "                \"messages\": [\n",
    "                    {\n",
    "                        \"role\": \"system\",\n",
    "                        \"content\": \"You are a chatbot with the goal of responding to my prompt. I will be user 1, and you will be user 2. I will also provide the personas for both users. Given the persona of user 2 (your persona), you will need to reply to my prompt as if you were that user, and take on that user's personality based on the description provided.\"\n",
    "                    },\n",
    "                    {\n",
    "                        \"role\": \"user\",\n",
    "                        \"content\": f\"{user1_persona}\\n\\n{user2_persona}\"\n",
    "                    },\n",
    "                    {\n",
    "                        \"role\": \"assistant\",\n",
    "                        \"content\": conversation\n",
    "                    }\n",
    "                ]\n",
    "            }\n",
    "\n",
    "            json_list.append(json_object)\n",
    "\n",
    "    with open(json_filename, mode='w', encoding='utf-8') as json_file:\n",
    "        for json_object in json_list:\n",
    "            json_file.write(json.dumps(json_object, ensure_ascii=False) + \"\\n\")\n",
    "\n",
    "# Example usage\n",
    "csv_filename = r'C:\\Users\\bhull\\OneDrive\\Desktop\\cs263\\Persona-Chatbot-G28\\Synthetic-Persona-Chat_train.csv'\n",
    "json_filename = 'Synthetic-Persona-Chat_train.json'\n",
    "csv_to_json(csv_filename, json_filename)\n"
   ]
  }
 ],
 "metadata": {
  "kernelspec": {
   "display_name": "Python 3",
   "language": "python",
   "name": "python3"
  },
  "language_info": {
   "codemirror_mode": {
    "name": "ipython",
    "version": 3
   },
   "file_extension": ".py",
   "mimetype": "text/x-python",
   "name": "python",
   "nbconvert_exporter": "python",
   "pygments_lexer": "ipython3",
   "version": "3.10.7"
  }
 },
 "nbformat": 4,
 "nbformat_minor": 2
}
