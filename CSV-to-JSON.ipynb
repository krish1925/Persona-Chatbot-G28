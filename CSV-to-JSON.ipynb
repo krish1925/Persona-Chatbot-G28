{
 "cells": [
  {
   "cell_type": "code",
   "execution_count": 1,
   "metadata": {},
   "outputs": [],
   "source": [
    "import csv\n",
    "import json\n",
    "\n",
    "def csv_to_json(csv_filename, json_filename):\n",
    "    json_list = []\n",
    "\n",
    "    with open(csv_filename, mode='r', encoding='utf-8') as csv_file:\n",
    "        csv_reader = csv.DictReader(csv_file)\n",
    "        \n",
    "        for row in csv_reader:\n",
    "            user1_persona = row['user 1 personas']\n",
    "            user2_persona = row['user 2 personas']\n",
    "            conversation = row['Best Generated Conversation'].split('\\n')\n",
    "\n",
    "            if len(conversation) >= 9:\n",
    "                user_message_content = \"\\n\".join(conversation[:7])\n",
    "                assistant_message_content = conversation[7]\n",
    "\n",
    "                if assistant_message_content.strip():  # Check if assistant message is not empty or just a newline\n",
    "                    messages = [\n",
    "                        {\n",
    "                            \"role\": \"system\",\n",
    "                            \"content\": \"I will be user 1, and you will be user 2. I will provide the personas for user 2 (which is you), and you have to infer the persona of user 2 through the context that is given afterwards. I will provide the first 6 lines of the conversation between the 2 users with the given persona. Given the persona of user 2 (your persona) and the beginning of the conversation, you will need to reply to my prompt as if you were that user, and take on that user's personality based on the description provided. Only reply with one line of conversation. Here is the persona for user 2, \"\n",
    "                        },\n",
    "                        {\n",
    "                            \"role\": \"user\",\n",
    "                            \"content\": f\"User2 persona: {user2_persona} Now here is the conversational context that you need to use: {user_message_content}\"\n",
    "                        },\n",
    "                        {\n",
    "                            \"role\": \"assistant\",\n",
    "                            \"content\": assistant_message_content\n",
    "                        }\n",
    "                    ]\n",
    "                    \n",
    "                    json_object = {\n",
    "                        \"messages\": messages\n",
    "                    }\n",
    "\n",
    "                    json_list.append(json_object)\n",
    "\n",
    "    with open(json_filename, mode='w', encoding='utf-8') as json_file:\n",
    "        for json_object in json_list:\n",
    "            json_file.write(json.dumps(json_object, ensure_ascii=False) + \"\\n\")\n",
    "\n",
    "# Example usage\n",
    "csv_filename = r'Synthetic-Persona-Chat_train.csv'\n",
    "json_filename = 'Synthetic-Persona-Chat_train.json'\n",
    "csv_to_json(csv_filename, json_filename)\n"
   ]
  },
  {
   "cell_type": "code",
   "execution_count": null,
   "metadata": {},
   "outputs": [],
   "source": [
    "#processing the json file such that if assistant has content null, then it does"
   ]
  }
 ],
 "metadata": {
  "kernelspec": {
   "display_name": "Python 3",
   "language": "python",
   "name": "python3"
  },
  "language_info": {
   "codemirror_mode": {
    "name": "ipython",
    "version": 3
   },
   "file_extension": ".py",
   "mimetype": "text/x-python",
   "name": "python",
   "nbconvert_exporter": "python",
   "pygments_lexer": "ipython3",
   "version": "3.11.5"
  }
 },
 "nbformat": 4,
 "nbformat_minor": 2
}
