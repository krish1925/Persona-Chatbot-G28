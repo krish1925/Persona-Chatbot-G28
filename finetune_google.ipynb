{
 "cells": [
  {
   "cell_type": "code",
   "execution_count": 3,
   "metadata": {},
   "outputs": [],
   "source": [
    "from openai import OpenAI\n",
    "import json\n",
    "import tiktoken # for token counting\n",
    "import numpy as np\n",
    "from collections import defaultdict\n",
    "\n",
    "client = OpenAI(api_key='sk-proj-4Brh6XVArOOG4c7DMUI7T3BlbkFJIZrEaupeqYNS23AIYpnz')"
   ]
  },
  {
   "cell_type": "code",
   "execution_count": 10,
   "metadata": {},
   "outputs": [
    {
     "name": "stdout",
     "output_type": "stream",
     "text": [
      "Num examples: 8938\n",
      "First example:\n",
      "{'role': 'system', 'content': \"You are a chatbot with the goal of responding to my prompt. I will be user 1, and you will be user 2. I will also provide the personas for both users. Given the persona of user 2 (your persona), you will need to reply to my prompt as if you were that user, and take on that user's personality based on the description provided.\"}\n",
      "{'role': 'user', 'content': 'I am 32.\\nI do not want a job.\\nI play video games all day.\\nI still live at home with my parents.\\n\\nMy favorite drink is iced coffee.\\nI have a black belt in karate.\\nI m in a jazz band and play the saxophone.\\nI vacation along lake michigan every summer.'}\n",
      "{'role': 'assistant', 'content': \"User 1: Hi! I'm [user 1's name].\\nUser 2: Hi [user 1's name], I'm [user 2's name].\\nUser 1: What do you do for fun?\\nUser 2: I like to play video games, go to the beach, and read.\\nUser 1: I like to play video games too! I'm not much of a reader, though.\\nUser 2: What video games do you like to play?\\nUser 1: I like to play a lot of different games, but I'm really into competitive online games right now.\\nUser 2: I'm not really into competitive games, I like to play more relaxing games.\\nUser 1: That's cool. What kind of relaxing games do you like to play?\\nUser 2: I like to play puzzle games, simulation games, and story-based games.\\nUser 1: I've never been much of a puzzle game person, but I do like simulation games and story-based games.\\nUser 2: Nice! What's your favorite simulation game?\\nUser 1: I like Stardew Valley a lot. It's a farming game, but it's also really relaxing and fun.\\nUser 2: I've heard good things about that game. I might have to check it out.\\nUser 1: You should! It's a lot of fun.\\nUser 2: Well, I'm glad we met. Maybe we can play some games together sometime.\\nUser 1: That would be fun!\\nUser 2: Great! I'll send you my Steam name.\\nUser 1: Ok, sounds good.\"}\n"
     ]
    }
   ],
   "source": [
    "data_path = r\"C:\\Users\\bhull\\OneDrive\\Desktop\\CS 131\\proj2\\Persona-Chatbot-G28\\Synthetic-Persona-Chat_train.json\"\n",
    "\n",
    "# Load the dataset\n",
    "with open(data_path, 'r', encoding='utf-8') as f:\n",
    "    dataset = [json.loads(line) for line in f]\n",
    "\n",
    "# Initial dataset stats\n",
    "print(\"Num examples:\", len(dataset))\n",
    "print(\"First example:\")\n",
    "for message in dataset[0][\"messages\"]:\n",
    "    print(message)\n"
   ]
  },
  {
   "cell_type": "code",
   "execution_count": 11,
   "metadata": {},
   "outputs": [
    {
     "name": "stdout",
     "output_type": "stream",
     "text": [
      "No errors found\n"
     ]
    }
   ],
   "source": [
    "# Format error checks\n",
    "format_errors = defaultdict(int)\n",
    "\n",
    "for ex in dataset:\n",
    "    if not isinstance(ex, dict):\n",
    "        format_errors[\"data_type\"] += 1\n",
    "        continue\n",
    "        \n",
    "    messages = ex.get(\"messages\", None)\n",
    "    if not messages:\n",
    "        format_errors[\"missing_messages_list\"] += 1\n",
    "        continue\n",
    "        \n",
    "    for message in messages:\n",
    "        if \"role\" not in message or \"content\" not in message:\n",
    "            format_errors[\"message_missing_key\"] += 1\n",
    "        \n",
    "        if any(k not in (\"role\", \"content\", \"name\", \"function_call\", \"weight\") for k in message):\n",
    "            format_errors[\"message_unrecognized_key\"] += 1\n",
    "        \n",
    "        if message.get(\"role\", None) not in (\"system\", \"user\", \"assistant\", \"function\"):\n",
    "            format_errors[\"unrecognized_role\"] += 1\n",
    "            \n",
    "        content = message.get(\"content\", None)\n",
    "        function_call = message.get(\"function_call\", None)\n",
    "        \n",
    "        if (not content and not function_call) or not isinstance(content, str):\n",
    "            format_errors[\"missing_content\"] += 1\n",
    "    \n",
    "    if not any(message.get(\"role\", None) == \"assistant\" for message in messages):\n",
    "        format_errors[\"example_missing_assistant_message\"] += 1\n",
    "\n",
    "if format_errors:\n",
    "    print(\"Found errors:\")\n",
    "    for k, v in format_errors.items():\n",
    "        print(f\"{k}: {v}\")\n",
    "else:\n",
    "    print(\"No errors found\")"
   ]
  },
  {
   "cell_type": "code",
   "execution_count": 13,
   "metadata": {},
   "outputs": [
    {
     "data": {
      "text/plain": [
       "FileObject(id='file-lZdJq1mQ7WDzsGQthrlLWmMM', bytes=20157327, created_at=1717272779, filename='Synthetic-Persona-Chat_train.json', object='file', purpose='fine-tune', status='processed', status_details=None)"
      ]
     },
     "execution_count": 13,
     "metadata": {},
     "output_type": "execute_result"
    }
   ],
   "source": [
    "client.files.create(\n",
    "  file=open(r\"C:\\Users\\bhull\\OneDrive\\Desktop\\CS 131\\proj2\\Persona-Chatbot-G28\\Synthetic-Persona-Chat_train.json\", \"rb\"),\n",
    "  purpose=\"fine-tune\"\n",
    ")"
   ]
  },
  {
   "cell_type": "code",
   "execution_count": 14,
   "metadata": {},
   "outputs": [
    {
     "data": {
      "text/plain": [
       "FineTuningJob(id='ftjob-PvV5ISHY4cCCOOSxgoybRAk2', created_at=1717272795, error=Error(code=None, message=None, param=None), fine_tuned_model=None, finished_at=None, hyperparameters=Hyperparameters(n_epochs='auto', batch_size='auto', learning_rate_multiplier='auto'), model='gpt-3.5-turbo-0125', object='fine_tuning.job', organization_id='org-GdQsAXKoKSopVYWBmvCm4E8q', result_files=[], seed=1766751374, status='validating_files', trained_tokens=None, training_file='file-lZdJq1mQ7WDzsGQthrlLWmMM', validation_file=None, estimated_finish=None, integrations=[], user_provided_suffix=None)"
      ]
     },
     "execution_count": 14,
     "metadata": {},
     "output_type": "execute_result"
    }
   ],
   "source": [
    "client.fine_tuning.jobs.create(\n",
    "  training_file=\"file-lZdJq1mQ7WDzsGQthrlLWmMM\", \n",
    "  model=\"gpt-3.5-turbo\"\n",
    ")"
   ]
  },
  {
   "cell_type": "code",
   "execution_count": null,
   "metadata": {},
   "outputs": [],
   "source": [
    "# Retrieve the state of a fine-tune\n",
    "client.fine_tuning.jobs.retrieve(\"ftjob-PvV5ISHY4cCCOOSxgoybRAk2\")\n",
    "\n",
    "# List up to 10 events from a fine-tuning job\n",
    "client.fine_tuning.jobs.list_events(fine_tuning_job_id=\"ftjob-PvV5ISHY4cCCOOSxgoybRAk2\", limit=10)"
   ]
  },
  {
   "cell_type": "code",
   "execution_count": null,
   "metadata": {},
   "outputs": [],
   "source": [
    "result = client.fine_tuning.jobs.list()\n",
    "fine_tuned_model = result.data[0].fine_tuned_model\n",
    "print(fine_tuned_model)\n",
    "\n",
    "client.api_key = \"sk-proj-4Brh6XVArOOG4c7DMUI7T3BlbkFJIZrEaupeqYNS23AIYpnz\"\n",
    "client.organization = \"org-V8HzDM5peJZTa4SfEaBpor1V\""
   ]
  },
  {
   "cell_type": "code",
   "execution_count": null,
   "metadata": {},
   "outputs": [],
   "source": [
    "completion = client.chat.completions.create(\n",
    "  model=\"ft:gpt-3.5-turbo-0125:personal::9Tiw2Bjt\",\n",
    "  messages=[\n",
    "    {\"role\": \"system\", \"content\": \"You are a chatbot with the goal of responding to my prompt. \\\n",
    "     I will be user 1, and you will be user 2. I will also provide the personas for both users. \\\n",
    "     Given the persona of user 2 (your persona), you will need to reply to my prompt as if you \\\n",
    "     were that user, and take on that user's personality based on the description provided.\"},\n",
    "    {\"role\": \"user\", \"content\": \"\"\n",
    "    }\n",
    "  ]\n",
    ")\n",
    "\n",
    "print(f\"Response: \\n {completion.choices[0].message.content}\")"
   ]
  }
 ],
 "metadata": {
  "kernelspec": {
   "display_name": "cs260r",
   "language": "python",
   "name": "python3"
  },
  "language_info": {
   "codemirror_mode": {
    "name": "ipython",
    "version": 3
   },
   "file_extension": ".py",
   "mimetype": "text/x-python",
   "name": "python",
   "nbconvert_exporter": "python",
   "pygments_lexer": "ipython3",
   "version": "3.11.6"
  }
 },
 "nbformat": 4,
 "nbformat_minor": 2
}
